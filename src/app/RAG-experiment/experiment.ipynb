{
 "cells": [
  {
   "cell_type": "code",
   "execution_count": null,
   "id": "a793fd32",
   "metadata": {
    "vscode": {
     "languageId": "plaintext"
    }
   },
   "outputs": [],
   "source": [
    "#use python 3.12\n",
    "#later on discuss requirements.txt"
   ]
  }
 ],
 "metadata": {
  "language_info": {
   "name": "python"
  }
 },
 "nbformat": 4,
 "nbformat_minor": 5
}
