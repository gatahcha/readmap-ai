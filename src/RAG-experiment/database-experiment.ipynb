{
 "cells": [
  {
   "cell_type": "code",
   "execution_count": 35,
   "id": "21aa14c2",
   "metadata": {},
   "outputs": [],
   "source": [
    "#ENUMERATION based on CSV file\n",
    "#isbn13,isbn10,title,subtitle,authors,categories,thumbnail,description,published_year,average_rating,num_pages,ratings_count\n",
    "ISBN13 = 0\n",
    "ISBN10 = 1\n",
    "TITLE = 2\n",
    "SUBTITLE = 3\n",
    "AUTHOR = 4\n",
    "CATEGORIES = 5\n",
    "THUMBNAIL = 6\n",
    "DESCRIPTION = 7\n",
    "PUBLISHED_YEAR = 8\n",
    "AVERAGE_RATING = 9\n",
    "NUM_PAGES = 10\n",
    "RATING_COUNT = 11\n",
    "\n"
   ]
  },
  {
   "cell_type": "code",
   "execution_count": 36,
   "id": "e07abbed",
   "metadata": {},
   "outputs": [
    {
     "name": "stderr",
     "output_type": "stream",
     "text": [
      "<All keys matched successfully>\n"
     ]
    }
   ],
   "source": [
    "from sentence_transformers import SentenceTransformer\n",
    "model = SentenceTransformer(\"nomic-ai/nomic-embed-text-v1\", trust_remote_code=True)\n",
    "\n",
    "# Define a function to generate embeddings\n",
    "def get_embedding(data, precision=\"float32\"):\n",
    "   return model.encode(data, precision=precision).tolist()\n"
   ]
  },
  {
   "cell_type": "code",
   "execution_count": null,
   "id": "974c2abf",
   "metadata": {},
   "outputs": [],
   "source": [
    "import csv\n",
    "from pymongo.mongo_client import MongoClient\n",
    "from pymongo.server_api import ServerApi\n",
    "\n",
    "uri = \"your link\"\n",
    "# Create a new client and connect to the server\n",
    "client = MongoClient(uri, server_api=ServerApi('1'))\n",
    "# Send a ping to confirm a successful connection\n",
    "database = client['book_recommendation']\n",
    "collection = database['book']\n",
    "\n",
    "def database_item(lines):\n",
    "    #filing the dictionary\n",
    "    \n",
    "    line_data = {\n",
    "        \"ISBN13\": lines[ISBN13],\n",
    "        \"ISBN10\": lines[ISBN10],\n",
    "        \"TITLE\": lines[TITLE],\n",
    "        \"SUBTITLE\": lines[SUBTITLE],\n",
    "        \"AUTHOR\": lines[AUTHOR],\n",
    "        \"CATEGORIES\": lines[CATEGORIES],\n",
    "        \"THUMBNAIL\": lines[THUMBNAIL],\n",
    "        \"DESCRIPTION\": lines[DESCRIPTION],\n",
    "        \"PUBLISHED_YEAR\": lines[PUBLISHED_YEAR],\n",
    "        \"AVERAGE_RATING\": lines[AVERAGE_RATING],\n",
    "        \"NUM_PAGES\": lines[NUM_PAGES],\n",
    "        \"RATING_COUNT\": lines[RATING_COUNT],\n",
    "        \"EMBEDDING\" : None\n",
    "    }\n",
    "\n",
    "    embed_string_list = [\n",
    "        \"TITLE : \" + lines[TITLE],\n",
    "        \"SUBTITLE : \" + lines[SUBTITLE],\n",
    "        \"AUTHOR : \" + lines[AUTHOR],\n",
    "        \"CATEGORIES : \" + lines[CATEGORIES],\n",
    "        \"DESCRIPTION : \" + lines[DESCRIPTION],\n",
    "        \"PUBLISHED_YEAR : \" + lines[PUBLISHED_YEAR],\n",
    "        \"AVERAGE_RATING : \" + lines[AVERAGE_RATING]\n",
    "    ]\n",
    "\n",
    "    embed_string = \" \".join(embed_string_list)\n",
    "\n",
    "    embedding = get_embedding(embed_string)\n",
    "    line_data[\"EMBEDDING\"] = embedding\n",
    "    return line_data\n",
    "\n",
    "#uploading data to database\n",
    "\n",
    "with open('data2.csv', mode='r') as file :\n",
    "    reader = csv.reader(file)\n",
    "    next(reader) #skip the first line\n",
    "    book_array = []\n",
    "    counter = 0\n",
    "    ship = 0\n",
    "\n",
    "    for lines in reader:\n",
    "        line_data = database_item(lines)\n",
    "        book_array.append(line_data)\n",
    "        counter += 1\n",
    "\n",
    "        if counter == 20:\n",
    "            collection.insert_many(book_array)\n",
    "            ship += 1\n",
    "            print(\"The \" + str(ship) + \" shipping\")\n",
    "            book_array = []\n",
    "            counter = 0\n",
    "    \n",
    "    collection.insert_many(book_array)\n",
    "    ship += 1\n",
    "    print(\"The \" + str(ship) + \" shipping\")\n",
    "\n",
    "        \n",
    "    \n",
    "    "
   ]
  },
  {
   "cell_type": "markdown",
   "id": "fff5c8b7",
   "metadata": {},
   "source": []
  }
 ],
 "metadata": {
  "kernelspec": {
   "display_name": ".venv",
   "language": "python",
   "name": "python3"
  },
  "language_info": {
   "codemirror_mode": {
    "name": "ipython",
    "version": 3
   },
   "file_extension": ".py",
   "mimetype": "text/x-python",
   "name": "python",
   "nbconvert_exporter": "python",
   "pygments_lexer": "ipython3",
   "version": "3.12.10"
  }
 },
 "nbformat": 4,
 "nbformat_minor": 5
}
